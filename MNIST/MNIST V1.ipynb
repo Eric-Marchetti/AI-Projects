{
 "cells": [
  {
   "cell_type": "markdown",
   "metadata": {},
   "source": [
    "### Load Data"
   ]
  },
  {
   "cell_type": "code",
   "execution_count": 22,
   "metadata": {},
   "outputs": [
    {
     "data": {
      "text/plain": [
       "(60000, 28, 28)"
      ]
     },
     "execution_count": 22,
     "metadata": {},
     "output_type": "execute_result"
    }
   ],
   "source": [
    "from keras.datasets import mnist\n",
    "from keras.utils import to_categorical\n",
    "from matplotlib import pyplot\n",
    "(trainX, trainY), (OtestX, OtestY) = mnist.load_data()\n",
    "trainX.shape"
   ]
  },
  {
   "cell_type": "markdown",
   "metadata": {},
   "source": [
    "### Show some samples from the training data"
   ]
  },
  {
   "cell_type": "code",
   "execution_count": 25,
   "metadata": {},
   "outputs": [
    {
     "data": {
      "image/png": "[encoded data removed]",
      "text/plain": [
       "<Figure size 432x288 with 10 Axes>"
      ]
     },
     "metadata": {
      "needs_background": "light"
     },
     "output_type": "display_data"
    }
   ],
   "source": [
    "examples = []\n",
    "for Y in range(10):\n",
    "    for i in range(len(trainY)):\n",
    "        if trainY[i] == Y:\n",
    "            examples.append(trainX[i])\n",
    "            break\n",
    "for i in range(10):\n",
    "    pyplot.subplot(1,10,i+1)\n",
    "    fig = pyplot.imshow(255-examples[i], cmap=pyplot.get_cmap('gray'))\n",
    "    fig.axes.get_xaxis().set_visible(False)\n",
    "    fig.axes.get_yaxis().set_visible(False)\n",
    "pyplot.show()"
   ]
  },
  {
   "cell_type": "markdown",
   "metadata": {},
   "source": [
    "### Restructure data"
   ]
  },
  {
   "cell_type": "code",
   "execution_count": 3,
   "metadata": {},
   "outputs": [
    {
     "data": {
      "text/plain": [
       "(60000, 10)"
      ]
     },
     "execution_count": 3,
     "metadata": {},
     "output_type": "execute_result"
    }
   ],
   "source": [
    "trainX = trainX.reshape((trainX.shape[0], 28, 28, 1))\n",
    "testX = OtestX.reshape((OtestX.shape[0], 28, 28, 1))\n",
    "#CNN expect 3d image\n",
    "trainY = to_categorical(trainY)\n",
    "testY = to_categorical(OtestY)\n",
    "trainY.shape"
   ]
  },
  {
   "cell_type": "markdown",
   "metadata": {},
   "source": [
    "### Normalize the data to make it possible to operate on"
   ]
  },
  {
   "cell_type": "code",
   "execution_count": 4,
   "metadata": {},
   "outputs": [],
   "source": [
    "#normalize images so pixel values are between 0 and 1\n",
    "trainX = trainX.astype(\"float32\")/255.0\n",
    "testX = testX.astype(\"float32\")/255.0"
   ]
  },
  {
   "cell_type": "markdown",
   "metadata": {},
   "source": [
    "### CREATE MODEL!\n",
    "\n",
    "This has all of the different steps that were described in the writeup."
   ]
  },
  {
   "cell_type": "code",
   "execution_count": 5,
   "metadata": {},
   "outputs": [],
   "source": [
    "from keras.layers import *\n",
    "from keras import Sequential\n",
    "from keras.optimizers import SGD\n",
    "\n",
    "ConvNum = 32\n",
    "DenseLayerSize = 100\n",
    "\n",
    "model = Sequential()\n",
    "model.add(Conv2D(ConvNum, (3, 3), activation='relu', kernel_initializer='he_uniform', input_shape=(28, 28, 1)))\n",
    "model.add(MaxPooling2D((2, 2)))\n",
    "model.add(Flatten())\n",
    "model.add(Dense(DenseLayerSize, activation='relu', kernel_initializer='he_uniform'))\n",
    "model.add(Dense(10, activation='softmax'))"
   ]
  },
  {
   "cell_type": "markdown",
   "metadata": {},
   "source": [
    "### Show summary of model\n",
    "\n",
    "\n",
    "This is a statistical model with 542,230 model parameters that need to be fit. Compared to the 2 parameters that need to be fit to a 2d linear regression, this is a bit more complex"
   ]
  },
  {
   "cell_type": "code",
   "execution_count": 6,
   "metadata": {},
   "outputs": [
    {
     "name": "stdout",
     "output_type": "stream",
     "text": [
      "Model: \"sequential_1\"\n",
      "_________________________________________________________________\n",
      "Layer (type)                 Output Shape              Param #   \n",
      "=================================================================\n",
      "conv2d_1 (Conv2D)            (None, 26, 26, 32)        320       \n",
      "_________________________________________________________________\n",
      "max_pooling2d_1 (MaxPooling2 (None, 13, 13, 32)        0         \n",
      "_________________________________________________________________\n",
      "flatten_1 (Flatten)          (None, 5408)              0         \n",
      "_________________________________________________________________\n",
      "dense_1 (Dense)              (None, 100)               540900    \n",
      "_________________________________________________________________\n",
      "dense_2 (Dense)              (None, 10)                1010      \n",
      "=================================================================\n",
      "Total params: 542,230\n",
      "Trainable params: 542,230\n",
      "Non-trainable params: 0\n",
      "_________________________________________________________________\n"
     ]
    }
   ],
   "source": [
    "opt = SGD(lr=0.01, momentum=0.9)\n",
    "model.compile(optimizer=opt, loss='categorical_crossentropy', metrics=['accuracy'])\n",
    "model.summary()"
   ]
  },
  {
   "cell_type": "markdown",
   "metadata": {},
   "source": [
    "### Train Model\n",
    "\n",
    "I trained this for 10 epochs, which is 10 passes over the training data. I stopped at 10 because this appeared to maximize the accuracy."
   ]
  },
  {
   "cell_type": "code",
   "execution_count": 7,
   "metadata": {},
   "outputs": [
    {
     "name": "stdout",
     "output_type": "stream",
     "text": [
      "Epoch 1/10\n",
      "60000/60000 [==============================] - 8s 126us/step - loss: 0.1621 - accuracy: 0.9511\n",
      "Epoch 2/10\n",
      "60000/60000 [==============================] - 5s 86us/step - loss: 0.0562 - accuracy: 0.9826\n",
      "Epoch 3/10\n",
      "60000/60000 [==============================] - 5s 89us/step - loss: 0.0361 - accuracy: 0.9892\n",
      "Epoch 4/10\n",
      "60000/60000 [==============================] - 5s 87us/step - loss: 0.0242 - accuracy: 0.9924\n",
      "Epoch 5/10\n",
      "60000/60000 [==============================] - 5s 90us/step - loss: 0.0178 - accuracy: 0.9946\n",
      "Epoch 6/10\n",
      "60000/60000 [==============================] - 5s 87us/step - loss: 0.0124 - accuracy: 0.9966\n",
      "Epoch 7/10\n",
      "60000/60000 [==============================] - 5s 87us/step - loss: 0.0087 - accuracy: 0.9977\n",
      "Epoch 8/10\n",
      "60000/60000 [==============================] - 5s 86us/step - loss: 0.0059 - accuracy: 0.9986\n",
      "Epoch 9/10\n",
      "60000/60000 [==============================] - 5s 86us/step - loss: 0.0036 - accuracy: 0.9994\n",
      "Epoch 10/10\n",
      "60000/60000 [==============================] - 5s 86us/step - loss: 0.0024 - accuracy: 0.9997\n"
     ]
    }
   ],
   "source": [
    "numEpic = 10\n",
    "history = model.fit(trainX, trainY, epochs=numEpic, batch_size=32,verbose=1)"
   ]
  },
  {
   "cell_type": "code",
   "execution_count": 8,
   "metadata": {},
   "outputs": [],
   "source": [
    "model.save('Model Saves/MNIST V1')"
   ]
  },
  {
   "cell_type": "markdown",
   "metadata": {},
   "source": [
    "### Evaluating model performance\n",
    "\n",
    "The model was trained on the training data and it is now being tested on the testing data, which it has never seen."
   ]
  },
  {
   "cell_type": "code",
   "execution_count": 9,
   "metadata": {},
   "outputs": [
    {
     "name": "stdout",
     "output_type": "stream",
     "text": [
      "10000/10000 [==============================] - 1s 61us/step\n",
      "> 98.840\n"
     ]
    }
   ],
   "source": [
    "loss , acc = model.evaluate(testX, testY, verbose=1)\n",
    "print('> %.3f' % (acc * 100.0))"
   ]
  },
  {
   "cell_type": "markdown",
   "metadata": {},
   "source": [
    "### What is this chart?\n",
    "\n",
    "This chart is a heatmap of problem areas for the model. On the X-axis it shows the actual number and on the Y-axis, it shows the predictions. The color reflect how many incorrect predictions there were with darker meaning more incorrect predictions."
   ]
  },
  {
   "cell_type": "code",
   "execution_count": 27,
   "metadata": {},
   "outputs": [
    {
     "data": {
      "image/png": "[encoded data removed]",
      "text/plain": [
       "<Figure size 432x288 with 1 Axes>"
      ]
     },
     "metadata": {
      "needs_background": "light"
     },
     "output_type": "display_data"
    }
   ],
   "source": [
    "import numpy as np\n",
    "wrong = np.zeros((10,10))\n",
    "wrongPics = np.zeros((10,10),dtype = np.int32)\n",
    "yPredict = model.predict(testX)\n",
    "categories = np.argmax(yPredict,axis = 1)\n",
    "\n",
    "for i, (predicted, actual) in enumerate(zip(categories,OtestY)):\n",
    "    if predicted != actual:\n",
    "        wrong[predicted,actual] += 1\n",
    "        wrongPics[predicted,actual] = i\n",
    "        \n",
    "pyplot.imshow(wrong, cmap=pyplot.get_cmap('Reds'))\n",
    "pyplot.show()"
   ]
  },
  {
   "cell_type": "code",
   "execution_count": 12,
   "metadata": {},
   "outputs": [
    {
     "data": {
      "text/plain": [
       "array([[0., 0., 2., 0., 0., 1., 2., 2., 2., 0.],\n",
       "       [0., 0., 1., 1., 0., 1., 2., 1., 2., 0.],\n",
       "       [1., 2., 0., 0., 1., 0., 1., 5., 4., 0.],\n",
       "       [0., 0., 3., 0., 0., 6., 0., 1., 3., 1.],\n",
       "       [0., 0., 1., 0., 0., 0., 1., 0., 0., 4.],\n",
       "       [1., 0., 0., 6., 0., 0., 1., 0., 0., 0.],\n",
       "       [4., 3., 1., 1., 2., 2., 0., 0., 1., 0.],\n",
       "       [1., 0., 4., 0., 0., 0., 0., 0., 0., 0.],\n",
       "       [4., 0., 1., 0., 0., 0., 0., 2., 0., 2.],\n",
       "       [2., 2., 0., 3., 9., 2., 0., 6., 5., 0.]])"
      ]
     },
     "execution_count": 12,
     "metadata": {},
     "output_type": "execute_result"
    }
   ],
   "source": [
    "wrong"
   ]
  },
  {
   "cell_type": "code",
   "execution_count": 15,
   "metadata": {},
   "outputs": [
    {
     "data": {
      "text/plain": [
       "array([[   0,    0, 8382,    0,    0, 6532, 7216, 6597, 9634,    0],\n",
       "       [   0,    0, 3073, 3906,    0, 6572, 6783, 4201, 9540,    0],\n",
       "       [1678, 4248,    0,    0, 7886,    0,  646, 9664, 8094,    0],\n",
       "       [   0,    0, 4443,    0,    0, 4740,    0, 5734, 5973, 6023],\n",
       "       [   0,    0,  247,    0,    0,    0, 3941,    0,    0, 8527],\n",
       "       [3558,    0,    0, 5937,    0,    0, 9729,    0,    0,    0],\n",
       "       [4814, 2654, 3853, 9679, 5199, 4536,    0,    0, 2995,    0],\n",
       "       [5887,    0, 9015,    0,    0,    0,    0,    0,    0,    0],\n",
       "       [4807,    0,  582,    0,    0,    0,    0, 4497,    0, 4639],\n",
       "       [4163, 3503,    0, 6571, 4823, 2939,    0, 9642, 6173,    0]])"
      ]
     },
     "execution_count": 15,
     "metadata": {},
     "output_type": "execute_result"
    }
   ],
   "source": [
    "wrongPics"
   ]
  },
  {
   "cell_type": "markdown",
   "metadata": {},
   "source": [
    "### Examples of incorrect predictions\n",
    "\n",
    "This chart shows an example of each type of incorrect prediction. The spaces without pictures mean that there were no incorect predictions with those values. The actual value is on the X-axis. The predicted value is on the Y-axis."
   ]
  },
  {
   "cell_type": "code",
   "execution_count": 28,
   "metadata": {},
   "outputs": [
    {
     "data": {
      "image/png": "[encoded data removed]",
      "text/plain": [
       "<Figure size 432x288 with 48 Axes>"
      ]
     },
     "metadata": {
      "needs_background": "light"
     },
     "output_type": "display_data"
    }
   ],
   "source": [
    "for i in range(10):\n",
    "    for j in range(10): \n",
    "        if wrongPics[i][j] != 0:\n",
    "            pyplot.subplot(10,10,i*10+j+1)\n",
    "            fig = pyplot.imshow(1-testX[wrongPics[i][j]], cmap=pyplot.get_cmap('gray'))\n",
    "            fig.axes.get_xaxis().set_visible(False)\n",
    "            fig.axes.get_yaxis().set_visible(False)\n",
    "pyplot.show()"
   ]
  },
  {
   "cell_type": "code",
   "execution_count": null,
   "metadata": {},
   "outputs": [],
   "source": []
  }
 ],
 "metadata": {
  "kernelspec": {
   "display_name": "Python 3",
   "language": "python",
   "name": "python3"
  },
  "language_info": {
   "codemirror_mode": {
    "name": "ipython",
    "version": 3
   },
   "file_extension": ".py",
   "mimetype": "text/x-python",
   "name": "python",
   "nbconvert_exporter": "python",
   "pygments_lexer": "ipython3",
   "version": "3.7.9"
  }
 },
 "nbformat": 4,
 "nbformat_minor": 4
}
